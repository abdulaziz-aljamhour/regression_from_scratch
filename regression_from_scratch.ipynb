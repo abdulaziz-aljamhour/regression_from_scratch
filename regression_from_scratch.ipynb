{
 "cells": [
  {
   "cell_type": "markdown",
   "metadata": {},
   "source": [
    "# Task 2\n",
    "## Implementing a model from scratch\n",
    "Implement the following functions:\n",
    "- Generating a synthetic dataset.\n",
    "- Learning algorithm.\n",
    "    - Linear regression formula.\n",
    "- Loss function.\n",
    "- Optimization function.\n",
    "- Fitting/Training function.\n",
    "- Inferencing/Prediction function."
   ]
  },
  {
   "cell_type": "markdown",
   "metadata": {
    "vscode": {
     "languageId": "plaintext"
    }
   },
   "source": [
    "______________"
   ]
  },
  {
   "cell_type": "markdown",
   "metadata": {
    "vscode": {
     "languageId": "plaintext"
    }
   },
   "source": [
    "# After Finishing the implementation and evaluating your results on an implementation from sklearn, do the following:\n",
    "\n",
    "## the goals and relations of each function in the model.\n",
    "\n",
    "## Create an interface in Streamlit\\Gradio that lets you enter in data and returns with a prediction.\n",
    "## OR\n",
    "## Build a plotly dash."
   ]
  }
 ],
 "metadata": {
  "language_info": {
   "name": "python"
  }
 },
 "nbformat": 4,
 "nbformat_minor": 2
}
